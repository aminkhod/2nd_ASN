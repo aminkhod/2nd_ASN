{
 "cells": [
  {
   "cell_type": "code",
   "execution_count": 1,
   "metadata": {},
   "outputs": [],
   "source": [
    "import numpy as np"
   ]
  },
  {
   "cell_type": "code",
   "execution_count": 2,
   "metadata": {},
   "outputs": [],
   "source": [
    "a = [1,2,3,4,5]\n",
    "b = ['-', '*', \"/\", '+']\n",
    "muChance = 0.05\n",
    "\n",
    "\n",
    "\n",
    "\n",
    "\n",
    "\n",
    "\n",
    "\n",
    "\n"
   ]
  },
  {
   "cell_type": "code",
   "execution_count": 3,
   "metadata": {},
   "outputs": [],
   "source": [
    "def generatePoulation(a,b,n):\n",
    "    aCopy = a.copy()\n",
    "    pop = []\n",
    "    operandPop = []\n",
    "    for i in range(n):\n",
    "        operandChrom = []\n",
    "        lenb = len(b)\n",
    "        for j in range(lenb):\n",
    "            if j != 0:\n",
    "                bb = np.random.randint(len(b))\n",
    "                operandChrom.append(b[bb])\n",
    "\n",
    "        operandPop.append(operandChrom)\n",
    "        chrom = []\n",
    "        lena = len(a)\n",
    "        for j in range(lena):\n",
    "            aa = np.random.randint(len(a))\n",
    "            chrom.append(a[aa])\n",
    "            del a[aa]\n",
    "        pop.append(chrom)\n",
    "        a = aCopy.copy()\n",
    "    return pop, operandPop"
   ]
  },
  {
   "cell_type": "code",
   "execution_count": 4,
   "metadata": {},
   "outputs": [],
   "source": [
    "def operandMutation(operand, muChance, b):\n",
    "    for i in range(len(operand)):\n",
    "        if np.random.random()>=float(1-muChance):\n",
    "            operand[i] = b[np.random.randint(len(b))]\n",
    "    return operand"
   ]
  },
  {
   "cell_type": "code",
   "execution_count": 8,
   "metadata": {},
   "outputs": [],
   "source": [
    "def ChromeMutation(chrome, muChance):\n",
    "    for i in range(len(chrome)):\n",
    "        if np.random.random() >= float(1-muChance):\n",
    "            g1 = np.random.randint(len(chrome))\n",
    "            g2 = np.random.randint(len(chrome))\n",
    "            buf = chrome[g2]\n",
    "            chrome[g2] = chrome[g1]\n",
    "            chrome[g1] = buf\n",
    "    return chrome"
   ]
  },
  {
   "cell_type": "code",
   "execution_count": 5,
   "metadata": {},
   "outputs": [],
   "source": [
    "pop, popOperand = generatePoulation(a,b,3)"
   ]
  },
  {
   "cell_type": "code",
   "execution_count": 6,
   "metadata": {},
   "outputs": [
    {
     "name": "stdout",
     "output_type": "stream",
     "text": [
      "[[1, 3, 4, 2, 5], [2, 3, 4, 5, 1], [4, 1, 2, 3, 5]] [['-', '-', '-'], ['+', '/', '-'], ['*', '/', '+']]\n"
     ]
    },
    {
     "data": {
      "text/plain": [
       "['/', '/', '-']"
      ]
     },
     "execution_count": 6,
     "metadata": {},
     "output_type": "execute_result"
    }
   ],
   "source": [
    "print(pop, popOperand)\n",
    "operandMutation(popOperand[1], muChance, b)"
   ]
  },
  {
   "cell_type": "code",
   "execution_count": 77,
   "metadata": {},
   "outputs": [
    {
     "data": {
      "text/plain": [
       "[2, 5, 3, 1, 4]"
      ]
     },
     "execution_count": 77,
     "metadata": {},
     "output_type": "execute_result"
    }
   ],
   "source": [
    "ChromeMutation(pop[2], muChance)"
   ]
  },
  {
   "cell_type": "code",
   "execution_count": null,
   "metadata": {},
   "outputs": [],
   "source": []
  }
 ],
 "metadata": {
  "kernelspec": {
   "display_name": "Python 3",
   "language": "python",
   "name": "python3"
  },
  "language_info": {
   "codemirror_mode": {
    "name": "ipython",
    "version": 3
   },
   "file_extension": ".py",
   "mimetype": "text/x-python",
   "name": "python",
   "nbconvert_exporter": "python",
   "pygments_lexer": "ipython3",
   "version": "3.6.7"
  }
 },
 "nbformat": 4,
 "nbformat_minor": 2
}
