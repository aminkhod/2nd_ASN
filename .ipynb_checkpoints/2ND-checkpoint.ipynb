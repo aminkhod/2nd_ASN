{
 "cells": [
  {
   "cell_type": "code",
   "execution_count": 39,
   "metadata": {},
   "outputs": [],
   "source": [
    "import numpy as np\n",
    "import pandas as pd\n"
   ]
  },
  {
   "cell_type": "code",
   "execution_count": 132,
   "metadata": {},
   "outputs": [],
   "source": [
    "a = list(range(1,51))\n",
    "b = ['-', '*', \"/\", '+']\n",
    "popSize = 10\n",
    "muChance = 0.05\n",
    "parentEligibility = 0.3\n",
    "target = 555\n",
    "MaxGeneration = 200"
   ]
  },
  {
   "cell_type": "code",
   "execution_count": 133,
   "metadata": {},
   "outputs": [],
   "source": [
    "def generatePoulation(a,b,n):\n",
    "    aCopy = a.copy()\n",
    "    pop = []\n",
    "    operandPop = []\n",
    "    for i in range(n):\n",
    "        operandChrom = []\n",
    "        for j in range(len(a)):\n",
    "            if j != 0:\n",
    "                bb = np.random.randint(len(b))\n",
    "                operandChrom.append(b[bb])\n",
    "\n",
    "        operandPop.append(operandChrom)\n",
    "        chrom = []\n",
    "        lena = len(aCopy)\n",
    "        for j in range(lena):\n",
    "            aa = np.random.randint(len(aCopy))\n",
    "            chrom.append(aCopy[aa])\n",
    "            del aCopy[aa]\n",
    "        pop.append(chrom)\n",
    "        aCopy = a.copy()\n",
    "    return pop, operandPop"
   ]
  },
  {
   "cell_type": "code",
   "execution_count": 121,
   "metadata": {},
   "outputs": [],
   "source": [
    "def operandMutation(operand, muChance, b):\n",
    "    for i in range(len(operand)):\n",
    "        if np.random.random()>=float(1-muChance):\n",
    "            operand[i] = b[np.random.randint(len(b))]\n",
    "    return operand"
   ]
  },
  {
   "cell_type": "code",
   "execution_count": 122,
   "metadata": {},
   "outputs": [],
   "source": [
    "def ChromeMutation(chrome, muChance):\n",
    "    for i in range(len(chrome)):\n",
    "        if np.random.random() >= float(1-muChance):\n",
    "            g1 = np.random.randint(len(chrome))\n",
    "            g2 = np.random.randint(len(chrome))\n",
    "            buf = chrome[g2]\n",
    "            chrome[g2] = chrome[g1]\n",
    "            chrome[g1] = buf\n",
    "    return chrome"
   ]
  },
  {
   "cell_type": "code",
   "execution_count": 123,
   "metadata": {},
   "outputs": [],
   "source": [
    "def crossOver(chrom1, chrom2, operand1, operand2):\n",
    "    \n",
    "    lenop = int(len(operand1)/2)\n",
    "    operand = operand1[0:lenop]\n",
    "    operand.extend(operand2[lenop:])\n",
    "    chrom = []\n",
    "    for i in range(len(chrom1)):\n",
    "        chrom.append(chrom2[chrom1[i]-1])\n",
    "    \n",
    "    return chrom, operand"
   ]
  },
  {
   "cell_type": "code",
   "execution_count": 124,
   "metadata": {},
   "outputs": [],
   "source": [
    "def compute(chrom, operand):\n",
    "#     print(chrom[0])\n",
    "    string = str(chrom[0])\n",
    "    for i in range(len(operand)):\n",
    "        string += str(operand[i])\n",
    "        string += str(chrom[i+1])\n",
    "        \n",
    "    return eval(string)"
   ]
  },
  {
   "cell_type": "code",
   "execution_count": 125,
   "metadata": {},
   "outputs": [],
   "source": [
    "def objectiveFunction(chrom, operand,target):\n",
    "    return np.abs(compute(chrom, operand) - target)"
   ]
  },
  {
   "cell_type": "code",
   "execution_count": 130,
   "metadata": {},
   "outputs": [],
   "source": [
    "\n",
    "def GA(a, b, target, popSize, muChance, MaxGeneration):\n",
    "    nearestResponse = np.Infinity\n",
    "    bestOperand = []\n",
    "    bestNumbers = []\n",
    "    #first population\n",
    "    pop, popOperand = generatePoulation(a, b, popSize)\n",
    "    #Sorting\n",
    "    valueList = []\n",
    "    for k in range(len(pop)):\n",
    "        valueList.append(objectiveFunction(pop[k], popOperand[k],target))\n",
    "    \n",
    "    df = pd.DataFrame()\n",
    "    df['numbers'] = pop\n",
    "    df['operands'] = popOperand\n",
    "    df['value'] = valueList\n",
    "    df.sort_values(by='value', ascending=True, na_position='first',inplace=True)\n",
    "    \n",
    "    #Best first response\n",
    "    if nearestResponse >= df.values[0,2]:\n",
    "        nearestResponse = df.values[0,2]\n",
    "        bestOperand = df.values[0,1]\n",
    "        bestNumbers = df.values[0,0]\n",
    "    print('best Result for generation of 0', nearestResponse, bestOperand , bestNumbers,'\\n \\n \\n')\n",
    "    \n",
    "    for i in range(MaxGeneration):\n",
    "        if nearestResponse ==0:\n",
    "            break\n",
    "\n",
    "        #mutation\n",
    "        for j in range(len(pop)):\n",
    "            if np.random.random()>=float(1-muChance):\n",
    "                operandMutation(popOperand[j], muChance, b)\n",
    "            if np.random.random()>=float(1-muChance):\n",
    "                ChromeMutation(pop[j], muChance)        \n",
    "        \n",
    "        #cross over\n",
    "        numberOfBestParent = int(parentEligibility*len(pop))\n",
    "        eligibileParents = df.values[0:numberOfBestParent,:]\n",
    "\n",
    "        for z in range(int(numberOfBestParent/2)):\n",
    "            parent1 = np.random.randint(numberOfBestParent)\n",
    "            parent2 = np.random.randint(numberOfBestParent)\n",
    "            \n",
    "            chrom1 = eligibileParents[parent1,0]\n",
    "            chrom2 = eligibileParents[parent2,0]\n",
    "            \n",
    "            operand1 = eligibileParents[parent1,1]\n",
    "            operand2 = eligibileParents[parent2,1]\n",
    "            \n",
    "            chrom, operand = crossOver(chrom1, chrom2, operand1, operand2)\n",
    "            pop.append(chrom)\n",
    "            popOperand.append(operand)\n",
    "\n",
    "        \n",
    "        #mutation\n",
    "        for j in range(len(pop)):\n",
    "            if np.random.random()>=float(1-muChance):\n",
    "                operandMutation(popOperand[j], muChance, b)\n",
    "            if np.random.random()>=float(1-muChance):\n",
    "                ChromeMutation(pop[j], muChance)\n",
    "        #Soring\n",
    "        valueList = []\n",
    "        for k in range(len(pop)):\n",
    "            valueList.append(objectiveFunction(pop[k], popOperand[k],target))\n",
    "            \n",
    "        df = pd.DataFrame()\n",
    "        df['numbers'] = pop\n",
    "        df['operands'] = popOperand\n",
    "        df['value'] = valueList\n",
    "        df.sort_values(by='value', ascending=True, na_position='first',inplace=True)\n",
    "        \n",
    "        #Best response\n",
    "        if nearestResponse >= df.values[0,2]:\n",
    "            nearestResponse = df.values[0,2]\n",
    "            bestOperand = df.values[0,1]\n",
    "            bestNumbers = df.values[0,0]\n",
    "        print('best Result for generation of ', i+1, nearestResponse, bestOperand , bestNumbers,'\\n \\n \\n')\n",
    "        pop = pop[0:popSize]\n",
    "        popOperand = popOperand[0:popSize]"
   ]
  },
  {
   "cell_type": "code",
   "execution_count": 134,
   "metadata": {},
   "outputs": [
    {
     "name": "stdout",
     "output_type": "stream",
     "text": [
      "best Result for generation of 0 1911.0762202582569 ['+', '+', '*', '*', '/', '-', '/', '*', '+', '-', '/', '/', '+', '-', '/', '/', '*', '*', '+', '+', '*', '/', '-', '/', '+', '/', '-', '/', '+', '/', '-', '+', '/', '-', '+', '-', '-', '*', '-', '-', '*', '*', '-', '/', '-', '-', '+', '+', '+'] [26, 30, 43, 7, 33, 39, 21, 4, 1, 16, 47, 23, 15, 2, 37, 9, 35, 45, 25, 20, 17, 27, 6, 42, 36, 5, 38, 28, 13, 49, 11, 19, 50, 22, 40, 10, 46, 24, 32, 29, 8, 3, 34, 41, 18, 12, 31, 14, 48, 44] \n",
      " \n",
      " \n",
      "\n",
      "best Result for generation of  1 1911.0762202582569 ['+', '+', '*', '*', '/', '-', '/', '*', '+', '-', '/', '/', '+', '-', '/', '/', '*', '*', '+', '+', '*', '/', '-', '/', '+', '/', '-', '/', '+', '/', '-', '+', '/', '-', '+', '-', '-', '*', '-', '-', '*', '*', '-', '/', '-', '-', '+', '+', '+'] [26, 30, 43, 7, 33, 39, 21, 4, 1, 16, 47, 23, 15, 2, 37, 9, 35, 45, 25, 20, 17, 27, 6, 42, 36, 5, 38, 28, 13, 49, 11, 19, 50, 22, 40, 10, 46, 24, 32, 29, 8, 3, 34, 41, 18, 12, 31, 14, 48, 44] \n",
      " \n",
      " \n",
      "\n",
      "best Result for generation of  2 468.9544956312967 ['+', '+', '*', '*', '/', '-', '/', '*', '+', '-', '/', '/', '+', '-', '/', '/', '*', '*', '+', '+', '*', '/', '-', '/', '+', '/', '*', '-', '-', '-', '*', '-', '+', '-', '*', '/', '-', '-', '-', '/', '/', '*', '-', '-', '+', '+', '/', '-', '/'] [11, 43, 42, 30, 13, 40, 26, 27, 49, 34, 1, 36, 45, 22, 47, 12, 15, 23, 39, 28, 35, 20, 33, 14, 37, 25, 7, 19, 44, 16, 5, 21, 2, 38, 46, 32, 18, 10, 9, 24, 6, 50, 3, 29, 17, 8, 4, 31, 41, 48] \n",
      " \n",
      " \n",
      "\n",
      "best Result for generation of  19 411.5047322065943 ['*', '-', '+', '+', '*', '/', '/', '+', '+', '*', '-', '+', '+', '/', '+', '-', '/', '+', '-', '/', '*', '+', '-', '-', '+', '-', '*', '/', '-', '/', '/', '-', '-', '-', '+', '/', '-', '*', '+', '-', '/', '/', '/', '+', '/', '-', '*', '+', '-'] [4, 7, 11, 26, 48, 20, 22, 38, 14, 41, 16, 45, 47, 10, 5, 24, 13, 1, 44, 42, 34, 43, 17, 28, 21, 31, 12, 32, 30, 27, 19, 50, 15, 49, 9, 23, 29, 6, 36, 35, 3, 18, 39, 46, 37, 2, 40, 8, 25, 33] \n",
      " \n",
      " \n",
      "\n",
      "best Result for generation of  20 362.46456167311703 ['*', '-', '+', '+', '*', '/', '/', '+', '+', '*', '-', '+', '+', '/', '+', '-', '/', '+', '-', '/', '*', '+', '-', '-', '+', '-', '*', '/', '/', '*', '-', '+', '/', '+', '-', '-', '*', '/', '*', '-', '*', '-', '/', '/', '-', '*', '+', '-', '*'] [34, 31, 17, 11, 14, 33, 41, 24, 38, 27, 48, 16, 40, 10, 46, 9, 39, 29, 28, 7, 2, 30, 45, 20, 47, 43, 23, 37, 44, 5, 49, 3, 36, 19, 50, 12, 4, 8, 22, 18, 15, 35, 26, 25, 21, 6, 32, 1, 42, 13] \n",
      " \n",
      " \n",
      "\n",
      "best Result for generation of  31 34.60600683998325 ['*', '-', '+', '+', '*', '/', '/', '+', '+', '*', '-', '+', '+', '/', '+', '-', '/', '+', '-', '/', '*', '+', '-', '-', '+', '/', '*', '-', '-', '-', '*', '*', '+', '-', '*', '/', '+', '-', '-', '/', '/', '*', '-', '-', '+', '+', '/', '-', '/'] [27, 30, 50, 11, 1, 28, 38, 7, 31, 48, 34, 23, 41, 32, 25, 22, 44, 49, 29, 14, 5, 42, 35, 19, 26, 4, 8, 9, 43, 20, 21, 2, 39, 16, 12, 36, 24, 33, 37, 45, 3, 17, 40, 18, 47, 10, 46, 6, 15, 13] \n",
      " \n",
      " \n",
      "\n",
      "best Result for generation of  90 26.92212784440642 ['+', '/', '/', '*', '+', '+', '-', '/', '-', '-', '-', '-', '*', '+', '*', '+', '/', '*', '+', '/', '+', '*', '-', '*', '+', '/', '*', '-', '/', '-', '*', '+', '-', '-', '*', '/', '/', '/', '*', '/', '/', '*', '-', '-', '+', '+', '/', '-', '/'] [5, 9, 17, 32, 23, 1, 44, 20, 27, 30, 11, 3, 34, 2, 22, 38, 36, 6, 33, 45, 26, 12, 13, 7, 24, 41, 31, 48, 37, 42, 10, 43, 47, 18, 46, 15, 19, 8, 49, 35, 29, 4, 14, 28, 50, 39, 21, 25, 40, 16] \n",
      " \n",
      " \n",
      "\n"
     ]
    }
   ],
   "source": [
    "GA(a, b, target, popSize, muChance, MaxGeneration)"
   ]
  },
  {
   "cell_type": "code",
   "execution_count": null,
   "metadata": {},
   "outputs": [],
   "source": []
  }
 ],
 "metadata": {
  "kernelspec": {
   "display_name": "Python 3",
   "language": "python",
   "name": "python3"
  },
  "language_info": {
   "codemirror_mode": {
    "name": "ipython",
    "version": 3
   },
   "file_extension": ".py",
   "mimetype": "text/x-python",
   "name": "python",
   "nbconvert_exporter": "python",
   "pygments_lexer": "ipython3",
   "version": "3.6.7"
  }
 },
 "nbformat": 4,
 "nbformat_minor": 2
}
