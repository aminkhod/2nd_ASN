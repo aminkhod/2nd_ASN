{
 "cells": [
  {
   "cell_type": "code",
   "execution_count": 213,
   "metadata": {},
   "outputs": [],
   "source": [
    "import numpy as np\n",
    "import pandas as pd\n"
   ]
  },
  {
   "cell_type": "code",
   "execution_count": 232,
   "metadata": {},
   "outputs": [],
   "source": [
    "a = [1,2,3,4,5]\n",
    "b = ['-', '*', \"/\", '+']\n",
    "popSize = 4\n",
    "muChance = 0.05\n",
    "parentEligibility = 0.3\n",
    "target = 55\n",
    "MaxGeneration = 10"
   ]
  },
  {
   "cell_type": "code",
   "execution_count": 233,
   "metadata": {},
   "outputs": [],
   "source": [
    "def generatePoulation(a,b,n):\n",
    "    aCopy = a.copy()\n",
    "    pop = []\n",
    "    operandPop = []\n",
    "    for i in range(n):\n",
    "        operandChrom = []\n",
    "        for j in range(len(a)):\n",
    "            if j != 0:\n",
    "                bb = np.random.randint(len(b))\n",
    "                operandChrom.append(b[bb])\n",
    "\n",
    "        operandPop.append(operandChrom)\n",
    "        chrom = []\n",
    "        lena = len(aCopy)\n",
    "        for j in range(lena):\n",
    "            aa = np.random.randint(len(aCopy))\n",
    "            chrom.append(aCopy[aa])\n",
    "            del aCopy[aa]\n",
    "        pop.append(chrom)\n",
    "        aCopy = a.copy()\n",
    "    return pop, operandPop"
   ]
  },
  {
   "cell_type": "code",
   "execution_count": 234,
   "metadata": {},
   "outputs": [],
   "source": [
    "def operandMutation(operand, muChance, b):\n",
    "    for i in range(len(operand)):\n",
    "        if np.random.random()>=float(1-muChance):\n",
    "            operand[i] = b[np.random.randint(len(b))]\n",
    "    return operand"
   ]
  },
  {
   "cell_type": "code",
   "execution_count": 235,
   "metadata": {},
   "outputs": [],
   "source": [
    "def ChromeMutation(chrome, muChance):\n",
    "    for i in range(len(chrome)):\n",
    "        if np.random.random() >= float(1-muChance):\n",
    "            g1 = np.random.randint(len(chrome))\n",
    "            g2 = np.random.randint(len(chrome))\n",
    "            buf = chrome[g2]\n",
    "            chrome[g2] = chrome[g1]\n",
    "            chrome[g1] = buf\n",
    "    return chrome"
   ]
  },
  {
   "cell_type": "code",
   "execution_count": 236,
   "metadata": {},
   "outputs": [],
   "source": [
    "def crossOver(chrom1, chrom2, operand1, operand2):\n",
    "    \n",
    "    lenop = int(len(operand1)/2)\n",
    "    operand = operand1[0:lenop]\n",
    "    operand.extend(operand2[lenop:])\n",
    "    chrom = []\n",
    "    for i in range(len(chrom1)):\n",
    "        chrom.append(chrom2[chrom1[i]-1])\n",
    "    \n",
    "    return chrom, operand"
   ]
  },
  {
   "cell_type": "code",
   "execution_count": 237,
   "metadata": {},
   "outputs": [],
   "source": [
    "def compute(chrom, operand):\n",
    "    print(chrom[0])\n",
    "    string = str(chrom[0])\n",
    "    for i in range(len(operand)):\n",
    "        string += str(operand[i])\n",
    "        string += str(chrom[i+1])\n",
    "        \n",
    "    return eval(string)"
   ]
  },
  {
   "cell_type": "code",
   "execution_count": 238,
   "metadata": {},
   "outputs": [],
   "source": [
    "def objectiveFunction(chrom, operand,target):\n",
    "    return compute(chrom, operand) - target"
   ]
  },
  {
   "cell_type": "code",
   "execution_count": 239,
   "metadata": {},
   "outputs": [],
   "source": [
    "def GA(a, b, target, popSize, muChance, MaxGeneration):\n",
    "    nearestResponse = np.Infinity\n",
    "    for i in range(MaxGeneration):\n",
    "        pop, popOperand = generatePoulation(a, b, popSize)\n",
    "        for j in range(len(pop)):\n",
    "            if np.random.random()>=float(1-muChance):\n",
    "                operandMutation(popOperand[j], muChance, b)\n",
    "            if np.random.random()>=float(1-muChance):\n",
    "                ChromeMutation(pop[j], muChance)\n",
    "        valueList = []\n",
    "        for k in range(len(pop)):\n",
    "            valueList.append(objectiveFunction(pop[k], popOperand[k],target))\n",
    "        df = pd.DataFrame()\n",
    "        df['numbers'] = pop\n",
    "        df['operands'] = popOperand\n",
    "        df['value'] = valueList\n",
    "        print(df)\n",
    "        "
   ]
  },
  {
   "cell_type": "code",
   "execution_count": 240,
   "metadata": {},
   "outputs": [
    {
     "name": "stdout",
     "output_type": "stream",
     "text": [
      "2\n",
      "4\n",
      "3\n",
      "4\n",
      "           numbers      operands      value\n",
      "0  [2, 5, 1, 3, 4]  [*, +, +, -] -45.000000\n",
      "1  [4, 5, 3, 1, 2]  [-, /, /, *] -54.333333\n",
      "2  [3, 4, 1, 2, 5]  [/, -, +, /] -54.850000\n",
      "3  [4, 1, 2, 3, 5]  [+, +, *, +] -39.000000\n",
      "5\n",
      "4\n",
      "3\n",
      "3\n",
      "           numbers      operands  value\n",
      "0  [5, 2, 1, 4, 3]  [*, -, +, -] -45.00\n",
      "1  [4, 2, 3, 5, 1]  [+, -, /, *] -49.60\n",
      "2  [3, 4, 1, 2, 5]  [*, *, /, +] -44.00\n",
      "3  [3, 4, 2, 1, 5]  [/, +, +, -] -56.25\n",
      "5\n",
      "1\n",
      "4\n",
      "1\n",
      "           numbers      operands      value\n",
      "0  [5, 1, 4, 3, 2]  [*, -, /, -] -53.333333\n",
      "1  [1, 4, 5, 3, 2]  [-, /, *, /] -55.200000\n",
      "2  [4, 5, 1, 2, 3]  [/, -, -, *] -61.200000\n",
      "3  [1, 3, 4, 2, 5]  [*, +, /, *] -42.000000\n",
      "1\n",
      "5\n",
      "4\n",
      "1\n",
      "           numbers      operands  value\n",
      "0  [1, 5, 2, 4, 3]  [/, *, *, -]  -56.4\n",
      "1  [5, 2, 1, 3, 4]  [+, /, +, +]  -41.0\n",
      "2  [4, 1, 3, 2, 5]  [+, -, -, *]  -63.0\n",
      "3  [1, 2, 5, 3, 4]  [+, +, -, +]  -46.0\n",
      "3\n",
      "2\n",
      "4\n",
      "4\n",
      "           numbers      operands  value\n",
      "0  [3, 1, 2, 5, 4]  [/, -, /, +]  -48.4\n",
      "1  [2, 5, 3, 4, 1]  [-, +, -, -]  -60.0\n",
      "2  [4, 1, 3, 5, 2]  [-, -, *, /]  -59.5\n",
      "3  [4, 2, 1, 3, 5]  [*, /, *, *]   65.0\n",
      "2\n",
      "2\n",
      "5\n",
      "2\n",
      "           numbers      operands  value\n",
      "0  [2, 5, 1, 3, 4]  [*, *, +, *] -33.00\n",
      "1  [2, 3, 4, 1, 5]  [-, -, +, *] -55.00\n",
      "2  [5, 3, 4, 1, 2]  [+, *, /, /] -44.00\n",
      "3  [2, 5, 1, 3, 4]  [/, -, +, /] -54.85\n",
      "2\n",
      "1\n",
      "4\n",
      "1\n",
      "           numbers      operands      value\n",
      "0  [2, 4, 1, 3, 5]  [+, /, *, *]   7.000000\n",
      "1  [1, 3, 5, 4, 2]  [*, +, -, /] -49.000000\n",
      "2  [4, 1, 5, 2, 3]  [*, *, *, *]  65.000000\n",
      "3  [1, 5, 3, 4, 2]  [/, /, /, -] -56.983333\n",
      "4\n",
      "5\n",
      "4\n",
      "3\n",
      "           numbers      operands      value\n",
      "0  [4, 1, 2, 3, 5]  [*, /, -, /] -53.600000\n",
      "1  [5, 3, 4, 2, 1]  [-, -, +, -] -56.000000\n",
      "2  [4, 3, 5, 1, 2]  [/, +, -, +] -47.666667\n",
      "3  [3, 4, 5, 2, 1]  [-, +, *, +] -45.000000\n",
      "5\n",
      "1\n",
      "4\n",
      "2\n",
      "           numbers      operands      value\n",
      "0  [5, 4, 3, 1, 2]  [*, -, *, *] -41.000000\n",
      "1  [1, 3, 5, 2, 4]  [/, +, *, +] -40.666667\n",
      "2  [4, 2, 1, 5, 3]  [-, *, -, *] -68.000000\n",
      "3  [2, 4, 1, 3, 5]  [/, *, +, -] -56.500000\n",
      "4\n",
      "5\n",
      "5\n",
      "3\n",
      "           numbers      operands      value\n",
      "0  [4, 5, 2, 1, 3]  [/, /, *, /] -54.866667\n",
      "1  [5, 3, 4, 2, 1]  [+, +, +, -] -42.000000\n",
      "2  [5, 2, 4, 3, 1]  [/, /, +, -] -52.375000\n",
      "3  [3, 5, 4, 2, 1]  [-, *, /, /] -62.000000\n"
     ]
    }
   ],
   "source": [
    "GA(a, b, target, popSize, muChance, MaxGeneration)"
   ]
  },
  {
   "cell_type": "code",
   "execution_count": null,
   "metadata": {},
   "outputs": [],
   "source": []
  }
 ],
 "metadata": {
  "kernelspec": {
   "display_name": "Python 3",
   "language": "python",
   "name": "python3"
  },
  "language_info": {
   "codemirror_mode": {
    "name": "ipython",
    "version": 3
   },
   "file_extension": ".py",
   "mimetype": "text/x-python",
   "name": "python",
   "nbconvert_exporter": "python",
   "pygments_lexer": "ipython3",
   "version": "3.6.7"
  }
 },
 "nbformat": 4,
 "nbformat_minor": 2
}
